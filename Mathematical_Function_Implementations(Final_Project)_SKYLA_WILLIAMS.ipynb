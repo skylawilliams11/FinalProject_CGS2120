{
  "nbformat": 4,
  "nbformat_minor": 0,
  "metadata": {
    "colab": {
      "provenance": [],
      "authorship_tag": "ABX9TyN+LCGRTereIcf84hkuzgtL",
      "include_colab_link": true
    },
    "kernelspec": {
      "name": "python3",
      "display_name": "Python 3"
    },
    "language_info": {
      "name": "python"
    }
  },
  "cells": [
    {
      "cell_type": "markdown",
      "metadata": {
        "id": "view-in-github",
        "colab_type": "text"
      },
      "source": [
        "<a href=\"https://colab.research.google.com/github/skylawilliams11/FinalProject_CGS2120/blob/main/Mathematical_Function_Implementations(Final_Project)_SKYLA_WILLIAMS.ipynb\" target=\"_parent\"><img src=\"https://colab.research.google.com/assets/colab-badge.svg\" alt=\"Open In Colab\"/></a>"
      ]
    },
    {
      "cell_type": "code",
      "execution_count": 3,
      "metadata": {
        "colab": {
          "base_uri": "https://localhost:8080/"
        },
        "id": "wBaCwBCj0tcf",
        "outputId": "8cf25b9f-d96c-4950-eb47-72c7c426edd8"
      },
      "outputs": [
        {
          "output_type": "stream",
          "name": "stdout",
          "text": [
            "Factorial of 5: 1\n",
            "Factorial of 7: 1\n",
            "Factorial of 10: 1\n",
            "Is 29 prime? True\n",
            "Is 57 prime? False\n",
            "Is 97 prime? True\n",
            "GCD of 48 and 180: 12\n",
            "GCD of 56 and 98: 14\n",
            "GCD of 101 and 103: 1\n",
            "\n",
            "Time Complexity Analysis:\n",
            "1. Factorial: O(n) - Iterates from 1 to n.\n",
            "2. Prime Check: O(sqrt(n)) - Checks divisors up to sqrt(n).\n",
            "3. GCD: O(log(min(a, b))) - Based on Euclid's algorithm.\n",
            "\n"
          ]
        }
      ],
      "source": [
        "# Factorial Function\n",
        "def factorial(n):\n",
        "    \"\"\"\n",
        "    Calculate the factorial of a non-negative integer n.\n",
        "    :param n: Non-negative integer.\n",
        "    :return: Factorial of n.\n",
        "    \"\"\"\n",
        "    if n == 0 or n == 1:5\n",
        "    return 1\n",
        "    result = 1\n",
        "    for i in range(2, n + 1):\n",
        "        result *= i\n",
        "    return result\n",
        "\n",
        "\n",
        "# Prime Checker\n",
        "def is_prime(n):\n",
        "    \"\"\"\n",
        "    Check if a number is prime.\n",
        "    :param n: Integer to check.\n",
        "    :return: True if n is prime, False otherwise.\n",
        "    \"\"\"\n",
        "    if n <= 1:\n",
        "        return False\n",
        "    for i in range(2, int(n ** 0.5) + 1):\n",
        "        if n % i == 0:\n",
        "            return False\n",
        "    return True\n",
        "\n",
        "# GCD Function\n",
        "def gcd(a, b):\n",
        "    \"\"\"\n",
        "    Find the greatest common divisor of two numbers.\n",
        "    :param a: First integer.\n",
        "    :param b: Second integer.\n",
        "    :return: GCD of a and b.\n",
        "    \"\"\"\n",
        "    while b != 0:\n",
        "        a, b = b, a % b\n",
        "    return a\n",
        "\n",
        "# Testing the functions\n",
        "# Factorial tests\n",
        "print(\"Factorial of 5:\", factorial(5))\n",
        "print(\"Factorial of 7:\", factorial(7))\n",
        "print(\"Factorial of 10:\", factorial(10))\n",
        "\n",
        "# Prime checker tests\n",
        "print(\"Is 29 prime?\", is_prime(29))\n",
        "print(\"Is 57 prime?\", is_prime(57))\n",
        "print(\"Is 97 prime?\", is_prime(97))\n",
        "\n",
        "# GCD tests\n",
        "print(\"GCD of 48 and 180:\", gcd(48, 180))\n",
        "print(\"GCD of 56 and 98:\", gcd(56, 98))\n",
        "print(\"GCD of 101 and 103:\", gcd(101, 103))\n",
        "\n",
        "# Time complexity analysis\n",
        "print(\"\"\"\n",
        "Time Complexity Analysis:\n",
        "1. Factorial: O(n) - Iterates from 1 to n.\n",
        "2. Prime Check: O(sqrt(n)) - Checks divisors up to sqrt(n).\n",
        "3. GCD: O(log(min(a, b))) - Based on Euclid's algorithm.\n",
        "\"\"\")\n"
      ]
    },
    {
      "cell_type": "code",
      "source": [],
      "metadata": {
        "id": "SvPsmaOW4Q0p"
      },
      "execution_count": null,
      "outputs": []
    }
  ]
}